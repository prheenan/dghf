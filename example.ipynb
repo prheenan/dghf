{
 "cells": [
  {
   "cell_type": "code",
   "execution_count": 1,
   "id": "68b635cd-19d8-4c42-a17a-38a85f20af67",
   "metadata": {},
   "outputs": [],
   "source": [
    "import numpy as np \n",
    "np.bool8 = np.bool\n",
    "from plotly import express as px \n",
    "from plotly.subplots import make_subplots\n",
    "import pandas\n",
    "import dghf\n",
    "import hill_test\n",
    "import timeit\n",
    "from scipy import optimize"
   ]
  },
  {
   "cell_type": "code",
   "execution_count": 2,
   "id": "cb4351d0-4b9a-4d01-b3bf-f6a277c365e7",
   "metadata": {},
   "outputs": [],
   "source": [
    "def plot_error_and_time(kw_fit_arr,x_y_kw,title,bounds,x=\"coarse_n\",\n",
    "                        convert_v=None):\n",
    "    df_error_N, df_time_N = error_values(kw_fit_arr=kw_fit_arr,x_y_kw=x_y_kw,\n",
    "                                         bounds=bounds,time_repeats=10)\n",
    "    x_vals = sorted(set([e for kw in kw_fit_arr for e in kw.keys()]))\n",
    "    if convert_v is not None:\n",
    "        for d in [df_error_N,df_time_N]:\n",
    "            for x in x_vals:\n",
    "                d[x] = [convert_v[x](e) for e in d[x]]\n",
    "            d.sort_values(by=x_vals,inplace=True)\n",
    "    df_error_median_N = df_error_N[[\"Error (%)\",\"Parameter set\"] + x_vals].groupby([\"Parameter set\"] + x_vals).median().reset_index()\n",
    "    df_time_and_error = df_error_median_N.merge(df_time_N,on=[\"Parameter set\"] + x_vals)\n",
    "    # Create subplots\n",
    "    category_orders = {x:sorted(set(df_time_and_error[x]))}\n",
    "    fig = make_subplots(rows=2, cols=1,horizontal_spacing=0.15)\n",
    "    fig.add_trace(px.box(x=x,y=\"Error (%)\",points=\"all\",data_frame=df_time_and_error,\n",
    "                         log_y=True,category_orders=category_orders).data[0],row=1,col=1)\n",
    "    fig.add_trace(px.box(df_time_N,x=x,y=\"Time (s)\",points=\"all\",\n",
    "                        category_orders=category_orders).data[0],row=2,col=1)\n",
    "    fig.update_xaxes(title_text=x,row=1,col=1)\n",
    "    fig.update_yaxes(title_text=\"Error (%)\",type='log',row=1,col=1)\n",
    "    fig.update_xaxes(title_text=x,row=2,col=1)\n",
    "    fig.update_yaxes(title_text=\"Time (s)\",type='log',row=2,col=1)\n",
    "    fig.update_layout(autosize=False,height=600,width=400,title=title)\n",
    "    fig.show(renderer=\"iframe\")\n",
    "\n",
    "def error_values(kw_fit_arr,x_y_kw,bounds=None,time_repeats=0):\n",
    "    errors = []\n",
    "    times = []\n",
    "    for kw_params in kw_fit_arr:\n",
    "        for i,(x,y,kw) in enumerate(x_y_kw):\n",
    "            _f_callable = lambda : dghf.fit(x,y,bounds=bounds,**kw_params)\n",
    "            kw_fit = _f_callable()\n",
    "            if time_repeats > 0:\n",
    "                time_avg = timeit.timeit(_f_callable,number=time_repeats)\n",
    "            else:\n",
    "                time_avg = np.nan\n",
    "            times.append({\"Parameter set\":i,\"Time (s)\":time_avg,**kw_params})\n",
    "            for k,v in kw_fit.items():\n",
    "                v_expected = kw[k]\n",
    "                v_calculate = v \n",
    "                errors.append({\"Parameter set\":i,\"Parameter\":k,\"Error (%)\": 100 * abs((v_expected-v_calculate)/(v_expected)),**kw_params})\n",
    "    return pandas.DataFrame(errors), pandas.DataFrame(times)"
   ]
  },
  {
   "cell_type": "code",
   "execution_count": 3,
   "id": "0dfb9595-75ce-4f99-a737-9ec3819aedaa",
   "metadata": {},
   "outputs": [],
   "source": [
    "simulated_data = hill_test.MyTestCase().simulated_data\n",
    "# ignore the all nan data set\n",
    "x_y_kw = [s[0] for s in simulated_data if not set(s[0][-1].values()) == set([np.nan])]\n",
    "# all of the simulated data has positive hill coefficient\n",
    "bounds = [[None,None],[None,None],[None,None],[0,np.inf]]"
   ]
  },
  {
   "cell_type": "code",
   "execution_count": 4,
   "id": "404028e0-1b97-4134-81b2-bcec1d36bbe7",
   "metadata": {},
   "outputs": [
    {
     "name": "stdout",
     "output_type": "stream",
     "text": [
      "{'coarse_n': [1, 2, 3, 4, 5, 6, 7, 8, 9, 10]}\n"
     ]
    },
    {
     "data": {
      "text/html": [
       "<iframe\n",
       "    scrolling=\"no\"\n",
       "    width=\"420px\"\n",
       "    height=\"620\"\n",
       "    src=\"iframe_figures/figure_4.html\"\n",
       "    frameborder=\"0\"\n",
       "    allowfullscreen\n",
       "></iframe>\n"
      ]
     },
     "metadata": {},
     "output_type": "display_data"
    }
   ],
   "source": [
    "plot_error_and_time(kw_fit_arr=[dict(coarse_n=coarse_n) for coarse_n in [1,2,3,4,5,6,7,8,9,10]],\n",
    "                    x_y_kw=x_y_kw,title = \"Error versus brute grid points\",\n",
    "                    bounds=bounds,x=\"coarse_n\")"
   ]
  },
  {
   "cell_type": "code",
   "execution_count": 5,
   "id": "25b12152-ab49-4159-bae0-3af1a3ab0b4b",
   "metadata": {},
   "outputs": [
    {
     "name": "stdout",
     "output_type": "stream",
     "text": [
      "{'finish': ['fmin', 'fmin_bfgs', 'fmin_cg', 'fmin_powell']}\n"
     ]
    },
    {
     "data": {
      "text/html": [
       "<iframe\n",
       "    scrolling=\"no\"\n",
       "    width=\"420px\"\n",
       "    height=\"620\"\n",
       "    src=\"iframe_figures/figure_5.html\"\n",
       "    frameborder=\"0\"\n",
       "    allowfullscreen\n",
       "></iframe>\n"
      ]
     },
     "metadata": {},
     "output_type": "display_data"
    }
   ],
   "source": [
    "plot_error_and_time(kw_fit_arr=[dict(finish=fin) for fin in [optimize.fmin,optimize.fmin_powell,\n",
    "                                                             optimize.fmin_cg,optimize.fmin_bfgs]],\n",
    "                    x_y_kw=x_y_kw,title = \"Error versus brute grid points\",\n",
    "                    bounds=bounds,x=\"finish\",convert_v={\"finish\":lambda x: str(x).split(\" at \")[0].replace(\"<function \",\"\")})"
   ]
  },
  {
   "cell_type": "code",
   "execution_count": 6,
   "id": "aa6fd42c-7f48-42a8-887a-4fe4ac9a8510",
   "metadata": {},
   "outputs": [
    {
     "name": "stdout",
     "output_type": "stream",
     "text": [
      "{'finish': ['fmin_powell']}\n"
     ]
    },
    {
     "data": {
      "text/html": [
       "<iframe\n",
       "    scrolling=\"no\"\n",
       "    width=\"420px\"\n",
       "    height=\"620\"\n",
       "    src=\"iframe_figures/figure_6.html\"\n",
       "    frameborder=\"0\"\n",
       "    allowfullscreen\n",
       "></iframe>\n"
      ]
     },
     "metadata": {},
     "output_type": "display_data"
    }
   ],
   "source": [
    "plot_error_and_time(kw_fit_arr=[dict(finish=fin) for fin in [optimize.fmin_powell]],\n",
    "                    x_y_kw=x_y_kw,title = \"Error versus brute grid points\",\n",
    "                    bounds=bounds,x=\"finish\",convert_v={\"finish\":lambda x: str(x).split(\" at \")[0].replace(\"<function \",\"\")})"
   ]
  },
  {
   "cell_type": "code",
   "execution_count": null,
   "id": "9b4ee153-acbb-4835-9f72-40389cca6957",
   "metadata": {},
   "outputs": [],
   "source": []
  }
 ],
 "metadata": {
  "kernelspec": {
   "display_name": "Python 3 (ipykernel)",
   "language": "python",
   "name": "python3"
  },
  "language_info": {
   "codemirror_mode": {
    "name": "ipython",
    "version": 3
   },
   "file_extension": ".py",
   "mimetype": "text/x-python",
   "name": "python",
   "nbconvert_exporter": "python",
   "pygments_lexer": "ipython3",
   "version": "3.12.8"
  }
 },
 "nbformat": 4,
 "nbformat_minor": 5
}
