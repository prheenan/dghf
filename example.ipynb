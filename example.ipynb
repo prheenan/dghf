{
 "cells": [
  {
   "cell_type": "markdown",
   "id": "2f38e72b-9c01-4c21-b913-569a5a156efc",
   "metadata": {},
   "source": [
    "# Purpose"
   ]
  },
  {
   "cell_type": "markdown",
   "id": "c4150969-5032-47ef-b9bb-a5ab6d392e8a",
   "metadata": {},
   "source": [
    "The purpose of this notebook is to document the default choices chosen for this repository, recorded below:\n",
    "\n",
    "- `coarse_grid=7` provides a fairly low run time while maintaining the best final error\n",
    "- `fine_grid=100` provides a fairly low run time while maintaining the best final error\n",
    "- `finish=fmin_powell` provides the best run time and lowest errors of the finish functions tested\n",
    "- `method='L-BFGS-B` provdes the best run time nad lowest errors of the final optimization methods tested"
   ]
  },
  {
   "cell_type": "markdown",
   "id": "d4fa63fc-f9a3-4c47-885d-cc82105b1e2f",
   "metadata": {},
   "source": [
    "# Imports"
   ]
  },
  {
   "cell_type": "code",
   "execution_count": 1,
   "id": "68b635cd-19d8-4c42-a17a-38a85f20af67",
   "metadata": {},
   "outputs": [],
   "source": [
    "import os\n",
    "import platform\n",
    "import timeit\n",
    "import numpy as np \n",
    "np.bool8 = np.bool\n",
    "from plotly import express as px \n",
    "from plotly.subplots import make_subplots\n",
    "import pandas\n",
    "from scipy import optimize\n",
    "import dghf\n",
    "import hill_test"
   ]
  },
  {
   "cell_type": "markdown",
   "id": "f67dc3f4-4ef4-4ecd-914a-149ec656549c",
   "metadata": {},
   "source": [
    "## Record OS information"
   ]
  },
  {
   "cell_type": "code",
   "execution_count": 2,
   "id": "8b470bb9-f15f-43da-a4de-6d1c1ae435cd",
   "metadata": {},
   "outputs": [
    {
     "data": {
      "text/plain": [
       "('posix',\n",
       " uname_result(system='Darwin', node='Patricks-MBP-3.attlocal.net', release='20.6.0', version='Darwin Kernel Version 20.6.0: Thu Jul  6 22:12:47 PDT 2023; root:xnu-7195.141.49.702.12~1/RELEASE_X86_64', machine='x86_64'),\n",
       " 'i386')"
      ]
     },
     "execution_count": 2,
     "metadata": {},
     "output_type": "execute_result"
    }
   ],
   "source": [
    "os.name, platform.uname(), platform.processor()"
   ]
  },
  {
   "cell_type": "markdown",
   "id": "ed471707-a656-40cf-9089-853931e8043e",
   "metadata": {},
   "source": [
    "## Setup functions"
   ]
  },
  {
   "cell_type": "code",
   "execution_count": 3,
   "id": "cb4351d0-4b9a-4d01-b3bf-f6a277c365e7",
   "metadata": {},
   "outputs": [],
   "source": [
    "def plot_error_and_time(kw_fit_arr,x_y_kw,title,bounds,x=\"coarse_n\",time_repeats=10,\n",
    "                        convert_v=None,height=600,width=400,log_x=False):\n",
    "    df_error_N, df_time_N = error_values(kw_fit_arr=kw_fit_arr,x_y_kw=x_y_kw,\n",
    "                                         bounds=bounds,time_repeats=time_repeats)\n",
    "    x_vals = sorted(set([e for kw in kw_fit_arr for e in kw.keys()]))\n",
    "    if convert_v is not None:\n",
    "        for d in [df_error_N,df_time_N]:\n",
    "            for x in x_vals:\n",
    "                d[x] = [convert_v[x](e) for e in d[x]]\n",
    "            d.sort_values(by=x_vals,inplace=True)\n",
    "    df_error_median_N = df_error_N[[\"Error (%)\",\"Parameter set\"] + x_vals].groupby([\"Parameter set\"] + x_vals).median().reset_index()\n",
    "    df_time_and_error = df_error_median_N.merge(df_time_N,on=[\"Parameter set\"] + x_vals)\n",
    "    # Create subplots\n",
    "    category_orders = {x:sorted(set(df_time_and_error[x]))}\n",
    "    fig = make_subplots(rows=2, cols=1,horizontal_spacing=0.15)\n",
    "    fig.add_trace(px.box(x=x,y=\"Error (%)\",points=\"all\",data_frame=df_time_and_error,\n",
    "                         log_y=True,category_orders=category_orders).data[0],row=1,col=1)\n",
    "    fig.add_trace(px.box(df_time_N,x=x,y=\"Time (s)\",points=\"all\",\n",
    "                        category_orders=category_orders).data[0],row=2,col=1)\n",
    "    fig.update_xaxes(title_text=x,row=1,col=1)\n",
    "    fig.update_yaxes(title_text=\"Error (%)\",type='log',row=1,col=1)\n",
    "    fig.update_xaxes(title_text=x,row=2,col=1)\n",
    "    fig.update_yaxes(title_text=\"Time (s)\",row=2,col=1)\n",
    "    if log_x:\n",
    "        fig.update_xaxes(type='log',row=1,col=1)\n",
    "        fig.update_xaxes(type='log',row=2,col=1)\n",
    "    fig.update_layout(autosize=False,height=height,width=width,title=title)\n",
    "    fig.show(renderer=\"iframe\")\n",
    "\n",
    "def error_values(kw_fit_arr,x_y_kw,bounds=None,time_repeats=0):\n",
    "    errors = []\n",
    "    times = []\n",
    "    for kw_params in kw_fit_arr:\n",
    "        for i,(x,y,kw) in enumerate(x_y_kw):\n",
    "            _f_callable = lambda : dghf.fit(x,y,bounds=bounds,**kw_params)\n",
    "            kw_fit = _f_callable()\n",
    "            if time_repeats > 0:\n",
    "                time_avg = timeit.timeit(_f_callable,number=time_repeats)\n",
    "            else:\n",
    "                time_avg = np.nan\n",
    "            times.append({\"Parameter set\":i,\"Time (s)\":time_avg,**kw_params})\n",
    "            for k,v in kw_fit.items():\n",
    "                v_expected = kw[k]\n",
    "                v_calculate = v \n",
    "                errors.append({\"Parameter set\":i,\"Parameter\":k,\"Error (%)\": 100 * abs((v_expected-v_calculate)/(v_expected)),**kw_params})\n",
    "    return pandas.DataFrame(errors), pandas.DataFrame(times)"
   ]
  },
  {
   "cell_type": "code",
   "execution_count": 4,
   "id": "0dfb9595-75ce-4f99-a737-9ec3819aedaa",
   "metadata": {},
   "outputs": [],
   "source": [
    "simulated_data = hill_test.MyTestCase().simulated_data\n",
    "# ignore the all nan data set\n",
    "x_y_kw = [s[0] for s in simulated_data if not set(s[0][-1].values()) == set([np.nan])]\n",
    "# all of the simulated data has positive hill coefficient\n",
    "bounds = [[None,None],[None,None],[None,None],[0,np.inf]]"
   ]
  },
  {
   "cell_type": "markdown",
   "id": "9aa56438-bd69-4ee9-a5d8-bb14a49ad826",
   "metadata": {},
   "source": [
    "## Determining optimum coarse grid size"
   ]
  },
  {
   "cell_type": "code",
   "execution_count": 5,
   "id": "404028e0-1b97-4134-81b2-bcec1d36bbe7",
   "metadata": {},
   "outputs": [
    {
     "data": {
      "text/html": [
       "<iframe\n",
       "    scrolling=\"no\"\n",
       "    width=\"420px\"\n",
       "    height=\"620\"\n",
       "    src=\"iframe_figures/figure_5.html\"\n",
       "    frameborder=\"0\"\n",
       "    allowfullscreen\n",
       "></iframe>\n"
      ]
     },
     "metadata": {},
     "output_type": "display_data"
    }
   ],
   "source": [
    "plot_error_and_time(kw_fit_arr=[dict(coarse_n=coarse_n) for coarse_n in [1,2,3,4,5,6,7,8,9,10]],\n",
    "                    x_y_kw=x_y_kw,title = \"Error versus brute grid points\",\n",
    "                    bounds=bounds,x=\"coarse_n\")"
   ]
  },
  {
   "cell_type": "markdown",
   "id": "67e9456a-d146-4e3f-85fb-6d07d61ae304",
   "metadata": {},
   "source": [
    "## Determining optimum fine grid size"
   ]
  },
  {
   "cell_type": "code",
   "execution_count": 6,
   "id": "f048606d-0414-49a3-9205-1f06bb8cc80c",
   "metadata": {},
   "outputs": [
    {
     "data": {
      "text/html": [
       "<iframe\n",
       "    scrolling=\"no\"\n",
       "    width=\"420px\"\n",
       "    height=\"620\"\n",
       "    src=\"iframe_figures/figure_6.html\"\n",
       "    frameborder=\"0\"\n",
       "    allowfullscreen\n",
       "></iframe>\n"
      ]
     },
     "metadata": {},
     "output_type": "display_data"
    }
   ],
   "source": [
    "plot_error_and_time(kw_fit_arr=[dict(fine_n=fine_n) for fine_n in [2,5,10,20,50,100,200,500,1000]],\n",
    "                    x_y_kw=x_y_kw,title = \"Error versus brute fine grid points\",\n",
    "                    bounds=bounds,x=\"fine_n\",log_x=True)"
   ]
  },
  {
   "cell_type": "markdown",
   "id": "20521113-ae73-4a1d-af19-a878b6e2aa6a",
   "metadata": {},
   "source": [
    "## Determining optimum brute finish"
   ]
  },
  {
   "cell_type": "code",
   "execution_count": 7,
   "id": "25b12152-ab49-4159-bae0-3af1a3ab0b4b",
   "metadata": {},
   "outputs": [
    {
     "data": {
      "text/html": [
       "<iframe\n",
       "    scrolling=\"no\"\n",
       "    width=\"520px\"\n",
       "    height=\"620\"\n",
       "    src=\"iframe_figures/figure_7.html\"\n",
       "    frameborder=\"0\"\n",
       "    allowfullscreen\n",
       "></iframe>\n"
      ]
     },
     "metadata": {},
     "output_type": "display_data"
    }
   ],
   "source": [
    "plot_error_and_time(kw_fit_arr=[dict(finish=fin) for fin in [optimize.fmin,optimize.fmin_powell,\n",
    "                                                             optimize.fmin_cg,optimize.fmin_bfgs]],\n",
    "                    x_y_kw=x_y_kw,title = \"Error versus brute finish\",width=500,\n",
    "                    bounds=bounds,x=\"finish\",convert_v={\"finish\":lambda x: str(x).split(\" at \")[0].replace(\"<function \",\"\")})"
   ]
  },
  {
   "cell_type": "markdown",
   "id": "c6e31280-133f-4e5b-98a8-bf859397bf58",
   "metadata": {},
   "source": [
    "# Determining optimum final polish"
   ]
  },
  {
   "cell_type": "code",
   "execution_count": 9,
   "id": "09195874-4d26-491e-826b-28f3b8f58d86",
   "metadata": {},
   "outputs": [
    {
     "data": {
      "text/html": [
       "<iframe\n",
       "    scrolling=\"no\"\n",
       "    width=\"520px\"\n",
       "    height=\"620\"\n",
       "    src=\"iframe_figures/figure_9.html\"\n",
       "    frameborder=\"0\"\n",
       "    allowfullscreen\n",
       "></iframe>\n"
      ]
     },
     "metadata": {},
     "output_type": "display_data"
    }
   ],
   "source": [
    "# note: 'dogleg','trust-ncg', 'trust-krylov','trust-exact' need hessian.  'COBYQA' and  'trust-constr' are very long\n",
    "all_methods = ['Nelder-Mead', 'Powell', 'CG', 'BFGS', 'Newton-CG', \n",
    "               'L-BFGS-B', 'TNC', 'COBYLA', 'SLSQP']\n",
    "plot_error_and_time(kw_fit_arr=[dict(method=method) for method in all_methods],time_repeats=30,\n",
    "                    x_y_kw=x_y_kw,title = \"Error versus brute grid points\",width=500,\n",
    "                    bounds=bounds,x=\"method\")"
   ]
  }
 ],
 "metadata": {
  "kernelspec": {
   "display_name": "Python 3 (ipykernel)",
   "language": "python",
   "name": "python3"
  },
  "language_info": {
   "codemirror_mode": {
    "name": "ipython",
    "version": 3
   },
   "file_extension": ".py",
   "mimetype": "text/x-python",
   "name": "python",
   "nbconvert_exporter": "python",
   "pygments_lexer": "ipython3",
   "version": "3.12.8"
  }
 },
 "nbformat": 4,
 "nbformat_minor": 5
}
