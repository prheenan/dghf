{
 "cells": [
  {
   "cell_type": "code",
   "execution_count": 1,
   "id": "68b635cd-19d8-4c42-a17a-38a85f20af67",
   "metadata": {},
   "outputs": [],
   "source": [
    "import numpy as np \n",
    "np.bool8 = np.bool\n",
    "from plotly import express as px \n",
    "import pandas\n",
    "import dghf\n",
    "import test\n",
    "import timeit"
   ]
  },
  {
   "cell_type": "code",
   "execution_count": 2,
   "id": "cb4351d0-4b9a-4d01-b3bf-f6a277c365e7",
   "metadata": {},
   "outputs": [],
   "source": [
    "def error_values(kw_fit_arr,x_y_kw,bounds=None,time_repeats=0):\n",
    "    errors = []\n",
    "    times = []\n",
    "    for kw_params in kw_fit_arr:\n",
    "        for i,(x,y,kw) in enumerate(x_y_kw):\n",
    "            _f_callable = lambda : dghf.fit(x,y,bounds=bounds,**kw_params)\n",
    "            kw_fit = _f_callable()\n",
    "            if time_repeats > 0:\n",
    "                time_avg = timeit.timeit(_f_callable,number=time_repeats)\n",
    "            else:\n",
    "                time_avg = np.nan\n",
    "            times.append({\"Parameter set\":i,\"Time (s)\":time_avg,**kw_params})\n",
    "            for k,v in kw_fit.items():\n",
    "                v_expected = kw[k]\n",
    "                v_calculate = v \n",
    "                errors.append({\"Parameter set\":i,\"Parameter\":k,\"Error (%)\": 100 * abs((v_expected-v_calculate)/(v_expected)),**kw_params})\n",
    "    return pandas.DataFrame(errors), pandas.DataFrame(times)"
   ]
  },
  {
   "cell_type": "code",
   "execution_count": 3,
   "id": "0dfb9595-75ce-4f99-a737-9ec3819aedaa",
   "metadata": {},
   "outputs": [],
   "source": [
    "simulated_data = test.MyTestCase().simulated_data\n",
    "# ignore the all nan data set\n",
    "x_y_kw = [s[0] for s in simulated_data if not set(s[0][-1].values()) == set([np.nan])]\n",
    "# all of the simulated data has positive hill coefficient\n",
    "bounds = [[None,None],[None,None],[None,None],[0,np.inf]]"
   ]
  },
  {
   "cell_type": "code",
   "execution_count": 4,
   "id": "0e160085-c510-456c-8af2-1d93a29374de",
   "metadata": {},
   "outputs": [],
   "source": [
    "df_error_N, df_time_N = error_values(kw_fit_arr=[dict(coarse_n=coarse_n) for coarse_n in [1,2,3,4,5,6,7,8,9,10]],x_y_kw=x_y_kw,bounds=bounds,\n",
    "                                    time_repeats=3)"
   ]
  },
  {
   "cell_type": "code",
   "execution_count": 5,
   "id": "404028e0-1b97-4134-81b2-bcec1d36bbe7",
   "metadata": {},
   "outputs": [
    {
     "data": {
      "text/html": [
       "<iframe\n",
       "    scrolling=\"no\"\n",
       "    width=\"620px\"\n",
       "    height=\"420\"\n",
       "    src=\"iframe_figures/figure_5.html\"\n",
       "    frameborder=\"0\"\n",
       "    allowfullscreen\n",
       "></iframe>\n"
      ]
     },
     "metadata": {},
     "output_type": "display_data"
    }
   ],
   "source": [
    "df_error_median_N = df_error_N[[\"Error (%)\",\"Parameter set\",\"coarse_n\"]].groupby([\"Parameter set\",\"coarse_n\"]).median().reset_index()\n",
    "df_time_and_error = df_error_median_N.merge(df_time_N,on=[\"Parameter set\",\"coarse_n\"])\n",
    "fig = px.box(x=\"coarse_n\",y=\"Error (%)\",points=\"all\",data_frame=df_time_and_error,log_y=True,width=600,height=400)\n",
    "fig.show(renderer=\"iframe\")"
   ]
  },
  {
   "cell_type": "code",
   "execution_count": 6,
   "id": "00b57233-cb3e-419b-9153-634dfbdd609f",
   "metadata": {},
   "outputs": [
    {
     "data": {
      "text/html": [
       "<iframe\n",
       "    scrolling=\"no\"\n",
       "    width=\"620px\"\n",
       "    height=\"420\"\n",
       "    src=\"iframe_figures/figure_6.html\"\n",
       "    frameborder=\"0\"\n",
       "    allowfullscreen\n",
       "></iframe>\n"
      ]
     },
     "metadata": {},
     "output_type": "display_data"
    }
   ],
   "source": [
    "fig = px.box(df_time_N,x=\"coarse_n\",y=\"Time (s)\",points=\"all\",width=600,height=400)\n",
    "fig.show(renderer=\"iframe\")"
   ]
  },
  {
   "cell_type": "code",
   "execution_count": 7,
   "id": "39602664-eb7d-4ba8-b1d3-69e2fd337417",
   "metadata": {},
   "outputs": [],
   "source": [
    "df_error_method, _ = error_values(kw_fit_arr=[dict(method='Powell'),dict(method='L-BFGS-B')],x_y_kw=x_y_kw,bounds=bounds)"
   ]
  },
  {
   "cell_type": "code",
   "execution_count": 8,
   "id": "13fdc41f-3abc-41dc-8e5d-f395ca042924",
   "metadata": {},
   "outputs": [
    {
     "data": {
      "text/html": [
       "<iframe\n",
       "    scrolling=\"no\"\n",
       "    width=\"620px\"\n",
       "    height=\"320\"\n",
       "    src=\"iframe_figures/figure_8.html\"\n",
       "    frameborder=\"0\"\n",
       "    allowfullscreen\n",
       "></iframe>\n"
      ]
     },
     "metadata": {},
     "output_type": "display_data"
    }
   ],
   "source": [
    "fig = px.box(df_error_method,x=\"method\",y=\"Error (%)\",points=\"all\",width=600,height=300,log_y=True)\n",
    "fig.show(renderer=\"iframe\")"
   ]
  }
 ],
 "metadata": {
  "kernelspec": {
   "display_name": "Python 3 (ipykernel)",
   "language": "python",
   "name": "python3"
  },
  "language_info": {
   "codemirror_mode": {
    "name": "ipython",
    "version": 3
   },
   "file_extension": ".py",
   "mimetype": "text/x-python",
   "name": "python",
   "nbconvert_exporter": "python",
   "pygments_lexer": "ipython3",
   "version": "3.13.1"
  }
 },
 "nbformat": 4,
 "nbformat_minor": 5
}
